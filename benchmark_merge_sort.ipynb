{
 "cells": [
  {
   "cell_type": "code",
   "execution_count": 4,
   "metadata": {
    "collapsed": true
   },
   "outputs": [],
   "source": [
    "%matplotlib inline\n",
    "\n",
    "import pandas as pd\n",
    "import matplotlib\n",
    "import matplotlib.pyplot as plt"
   ]
  },
  {
   "cell_type": "code",
   "execution_count": 19,
   "metadata": {
    "collapsed": true
   },
   "outputs": [],
   "source": [
    "results = {'built_in_sort': [0.14986,\n",
    "              0.35525,\n",
    "              0.62575,\n",
    "              0.9163,\n",
    "              1.13473,\n",
    "              1.38742,\n",
    "              1.70744,\n",
    "              1.96371],\n",
    "             'merge_sort_multi_processed': [1.15612,\n",
    "              2.32609,\n",
    "              4.34069,\n",
    "              6.99103,\n",
    "              8.82696,\n",
    "              10.81095,\n",
    "              13.30842,\n",
    "              14.38882],\n",
    "             'merge_sort_single_processed': [1.70035,\n",
    "              3.71542,\n",
    "              5.62071,\n",
    "              9.5271,\n",
    "              11.88688,\n",
    "              14.66832,\n",
    "              17.68617,\n",
    "              19.75437],\n",
    "             'num_of_elements': ['300K',\n",
    "              '600K',\n",
    "              '900K',\n",
    "              '1.2M',\n",
    "              '1.5M',\n",
    "              '1.8M',\n",
    "              '2.1M',\n",
    "              '2.4M']}\n",
    "df = pd.DataFrame(results)"
   ]
  },
  {
   "cell_type": "code",
   "execution_count": 20,
   "metadata": {},
   "outputs": [
    {
     "data": {
      "text/html": [
       "<div>\n",
       "<style>\n",
       "    .dataframe thead tr:only-child th {\n",
       "        text-align: right;\n",
       "    }\n",
       "\n",
       "    .dataframe thead th {\n",
       "        text-align: left;\n",
       "    }\n",
       "\n",
       "    .dataframe tbody tr th {\n",
       "        vertical-align: top;\n",
       "    }\n",
       "</style>\n",
       "<table border=\"1\" class=\"dataframe\">\n",
       "  <thead>\n",
       "    <tr style=\"text-align: right;\">\n",
       "      <th></th>\n",
       "      <th>built_in_sort</th>\n",
       "      <th>merge_sort_multi_processed</th>\n",
       "      <th>merge_sort_single_processed</th>\n",
       "      <th>num_of_elements</th>\n",
       "    </tr>\n",
       "  </thead>\n",
       "  <tbody>\n",
       "    <tr>\n",
       "      <th>0</th>\n",
       "      <td>0.14986</td>\n",
       "      <td>1.15612</td>\n",
       "      <td>1.70035</td>\n",
       "      <td>300K</td>\n",
       "    </tr>\n",
       "    <tr>\n",
       "      <th>1</th>\n",
       "      <td>0.35525</td>\n",
       "      <td>2.32609</td>\n",
       "      <td>3.71542</td>\n",
       "      <td>600K</td>\n",
       "    </tr>\n",
       "    <tr>\n",
       "      <th>2</th>\n",
       "      <td>0.62575</td>\n",
       "      <td>4.34069</td>\n",
       "      <td>5.62071</td>\n",
       "      <td>900K</td>\n",
       "    </tr>\n",
       "    <tr>\n",
       "      <th>3</th>\n",
       "      <td>0.91630</td>\n",
       "      <td>6.99103</td>\n",
       "      <td>9.52710</td>\n",
       "      <td>1.2M</td>\n",
       "    </tr>\n",
       "    <tr>\n",
       "      <th>4</th>\n",
       "      <td>1.13473</td>\n",
       "      <td>8.82696</td>\n",
       "      <td>11.88688</td>\n",
       "      <td>1.5M</td>\n",
       "    </tr>\n",
       "    <tr>\n",
       "      <th>5</th>\n",
       "      <td>1.38742</td>\n",
       "      <td>10.81095</td>\n",
       "      <td>14.66832</td>\n",
       "      <td>1.8M</td>\n",
       "    </tr>\n",
       "    <tr>\n",
       "      <th>6</th>\n",
       "      <td>1.70744</td>\n",
       "      <td>13.30842</td>\n",
       "      <td>17.68617</td>\n",
       "      <td>2.1M</td>\n",
       "    </tr>\n",
       "    <tr>\n",
       "      <th>7</th>\n",
       "      <td>1.96371</td>\n",
       "      <td>14.38882</td>\n",
       "      <td>19.75437</td>\n",
       "      <td>2.4M</td>\n",
       "    </tr>\n",
       "  </tbody>\n",
       "</table>\n",
       "</div>"
      ],
      "text/plain": [
       "   built_in_sort  merge_sort_multi_processed  merge_sort_single_processed  \\\n",
       "0        0.14986                     1.15612                      1.70035   \n",
       "1        0.35525                     2.32609                      3.71542   \n",
       "2        0.62575                     4.34069                      5.62071   \n",
       "3        0.91630                     6.99103                      9.52710   \n",
       "4        1.13473                     8.82696                     11.88688   \n",
       "5        1.38742                    10.81095                     14.66832   \n",
       "6        1.70744                    13.30842                     17.68617   \n",
       "7        1.96371                    14.38882                     19.75437   \n",
       "\n",
       "  num_of_elements  \n",
       "0            300K  \n",
       "1            600K  \n",
       "2            900K  \n",
       "3            1.2M  \n",
       "4            1.5M  \n",
       "5            1.8M  \n",
       "6            2.1M  \n",
       "7            2.4M  "
      ]
     },
     "execution_count": 20,
     "metadata": {},
     "output_type": "execute_result"
    }
   ],
   "source": [
    "df"
   ]
  },
  {
   "cell_type": "code",
   "execution_count": 21,
   "metadata": {},
   "outputs": [
    {
     "data": {
      "text/plain": [
       "<matplotlib.axes._subplots.AxesSubplot at 0x7f84d7d95a20>"
      ]
     },
     "execution_count": 21,
     "metadata": {},
     "output_type": "execute_result"
    },
    {
     "data": {
      "image/png": "[encoded data removed]",
      "text/plain": [
       "<matplotlib.figure.Figure at 0x7f84d7d42cf8>"
      ]
     },
     "metadata": {},
     "output_type": "display_data"
    }
   ],
   "source": [
    "df.plot(x='num_of_elements')"
   ]
  },
  {
   "cell_type": "code",
   "execution_count": 26,
   "metadata": {},
   "outputs": [],
   "source": [
    "pypy_results = {'built_in_sort': [0.05042,\n",
    "              0.09889,\n",
    "              0.16509,\n",
    "              0.21181,\n",
    "              0.38698,\n",
    "              0.42226,\n",
    "              0.4468,\n",
    "              0.50685],\n",
    "             'merge_sort_multi_processed': [0.70273,\n",
    "              1.2567,\n",
    "              1.8604,\n",
    "              2.47605,\n",
    "              3.83529,\n",
    "              4.7399,\n",
    "              5.97064,\n",
    "              6.24597],\n",
    "             'merge_sort_single_processed': [0.30114,\n",
    "              0.38104,\n",
    "              0.60658,\n",
    "              0.77142,\n",
    "              1.01968,\n",
    "              1.35846,\n",
    "              1.58217,\n",
    "              1.99674],\n",
    "             'num_of_elements': ['300K',\n",
    "              '600K',\n",
    "              '900K',\n",
    "              '1.2M',\n",
    "              '1.5M',\n",
    "              '1.8M',\n",
    "              '2.1M',\n",
    "              '2.4M']}\n",
    "pypy_df = pd.DataFrame(pypy_results)"
   ]
  },
  {
   "cell_type": "code",
   "execution_count": 27,
   "metadata": {},
   "outputs": [
    {
     "data": {
      "text/html": [
       "<div>\n",
       "<style>\n",
       "    .dataframe thead tr:only-child th {\n",
       "        text-align: right;\n",
       "    }\n",
       "\n",
       "    .dataframe thead th {\n",
       "        text-align: left;\n",
       "    }\n",
       "\n",
       "    .dataframe tbody tr th {\n",
       "        vertical-align: top;\n",
       "    }\n",
       "</style>\n",
       "<table border=\"1\" class=\"dataframe\">\n",
       "  <thead>\n",
       "    <tr style=\"text-align: right;\">\n",
       "      <th></th>\n",
       "      <th>built_in_sort</th>\n",
       "      <th>merge_sort_multi_processed</th>\n",
       "      <th>merge_sort_single_processed</th>\n",
       "      <th>num_of_elements</th>\n",
       "    </tr>\n",
       "  </thead>\n",
       "  <tbody>\n",
       "    <tr>\n",
       "      <th>0</th>\n",
       "      <td>0.05042</td>\n",
       "      <td>0.70273</td>\n",
       "      <td>0.30114</td>\n",
       "      <td>300K</td>\n",
       "    </tr>\n",
       "    <tr>\n",
       "      <th>1</th>\n",
       "      <td>0.09889</td>\n",
       "      <td>1.25670</td>\n",
       "      <td>0.38104</td>\n",
       "      <td>600K</td>\n",
       "    </tr>\n",
       "    <tr>\n",
       "      <th>2</th>\n",
       "      <td>0.16509</td>\n",
       "      <td>1.86040</td>\n",
       "      <td>0.60658</td>\n",
       "      <td>900K</td>\n",
       "    </tr>\n",
       "    <tr>\n",
       "      <th>3</th>\n",
       "      <td>0.21181</td>\n",
       "      <td>2.47605</td>\n",
       "      <td>0.77142</td>\n",
       "      <td>1.2M</td>\n",
       "    </tr>\n",
       "    <tr>\n",
       "      <th>4</th>\n",
       "      <td>0.38698</td>\n",
       "      <td>3.83529</td>\n",
       "      <td>1.01968</td>\n",
       "      <td>1.5M</td>\n",
       "    </tr>\n",
       "    <tr>\n",
       "      <th>5</th>\n",
       "      <td>0.42226</td>\n",
       "      <td>4.73990</td>\n",
       "      <td>1.35846</td>\n",
       "      <td>1.8M</td>\n",
       "    </tr>\n",
       "    <tr>\n",
       "      <th>6</th>\n",
       "      <td>0.44680</td>\n",
       "      <td>5.97064</td>\n",
       "      <td>1.58217</td>\n",
       "      <td>2.1M</td>\n",
       "    </tr>\n",
       "    <tr>\n",
       "      <th>7</th>\n",
       "      <td>0.50685</td>\n",
       "      <td>6.24597</td>\n",
       "      <td>1.99674</td>\n",
       "      <td>2.4M</td>\n",
       "    </tr>\n",
       "  </tbody>\n",
       "</table>\n",
       "</div>"
      ],
      "text/plain": [
       "   built_in_sort  merge_sort_multi_processed  merge_sort_single_processed  \\\n",
       "0        0.05042                     0.70273                      0.30114   \n",
       "1        0.09889                     1.25670                      0.38104   \n",
       "2        0.16509                     1.86040                      0.60658   \n",
       "3        0.21181                     2.47605                      0.77142   \n",
       "4        0.38698                     3.83529                      1.01968   \n",
       "5        0.42226                     4.73990                      1.35846   \n",
       "6        0.44680                     5.97064                      1.58217   \n",
       "7        0.50685                     6.24597                      1.99674   \n",
       "\n",
       "  num_of_elements  \n",
       "0            300K  \n",
       "1            600K  \n",
       "2            900K  \n",
       "3            1.2M  \n",
       "4            1.5M  \n",
       "5            1.8M  \n",
       "6            2.1M  \n",
       "7            2.4M  "
      ]
     },
     "execution_count": 27,
     "metadata": {},
     "output_type": "execute_result"
    }
   ],
   "source": [
    "pypy_df"
   ]
  },
  {
   "cell_type": "code",
   "execution_count": 28,
   "metadata": {},
   "outputs": [
    {
     "data": {
      "text/plain": [
       "<matplotlib.axes._subplots.AxesSubplot at 0x7f84d7c2def0>"
      ]
     },
     "execution_count": 28,
     "metadata": {},
     "output_type": "execute_result"
    },
    {
     "data": {
      "image/png": "[encoded data removed]",
      "text/plain": [
       "<matplotlib.figure.Figure at 0x7f84d7caf630>"
      ]
     },
     "metadata": {},
     "output_type": "display_data"
    }
   ],
   "source": [
    "pypy_df.plot(x='num_of_elements')"
   ]
  },
  {
   "cell_type": "code",
   "execution_count": null,
   "metadata": {
    "collapsed": true
   },
   "outputs": [],
   "source": []
  }
 ],
 "metadata": {
  "kernelspec": {
   "display_name": "Python 3",
   "language": "python",
   "name": "python3"
  },
  "language_info": {
   "codemirror_mode": {
    "name": "ipython",
    "version": 3
   },
   "file_extension": ".py",
   "mimetype": "text/x-python",
   "name": "python",
   "nbconvert_exporter": "python",
   "pygments_lexer": "ipython3",
   "version": "3.5.2"
  }
 },
 "nbformat": 4,
 "nbformat_minor": 2
}
